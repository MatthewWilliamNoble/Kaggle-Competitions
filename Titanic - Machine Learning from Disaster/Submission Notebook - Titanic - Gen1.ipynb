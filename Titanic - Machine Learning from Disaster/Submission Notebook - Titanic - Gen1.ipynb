{
 "cells": [
  {
   "cell_type": "markdown",
   "metadata": {},
   "source": [
    "# Titanic: Machine Learning from Disaster\n",
    "\n",
    "Start here! Predict survival on the Titanic and get familiar with ML basics.\n",
    "\n",
    "## Submission Notebook - Gen 1\n",
    "\n",
    "This notebook closely follows the tutorial submission found [here](https://www.kaggle.com/alexisbcook/titanic-tutorial/notebook), what is **Alexis Cook’s Titanic Tutorial**. The intention is to simply work through a simple machine learning pipeline and submit my first attempt to the Kaggle leaderboard."
   ]
  },
  {
   "cell_type": "code",
   "execution_count": null,
   "metadata": {},
   "outputs": [],
   "source": []
  }
 ],
 "metadata": {
  "kernelspec": {
   "display_name": "Python 3",
   "language": "python",
   "name": "python3"
  },
  "language_info": {
   "codemirror_mode": {
    "name": "ipython",
    "version": 3
   },
   "file_extension": ".py",
   "mimetype": "text/x-python",
   "name": "python",
   "nbconvert_exporter": "python",
   "pygments_lexer": "ipython3",
   "version": "3.7.3"
  }
 },
 "nbformat": 4,
 "nbformat_minor": 2
}
