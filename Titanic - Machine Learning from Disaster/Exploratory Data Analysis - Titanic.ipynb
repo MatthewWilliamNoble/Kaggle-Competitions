{
 "cells": [
  {
   "cell_type": "markdown",
   "metadata": {},
   "source": [
    "# Titanic: Machine Learning from Disaster\n",
    "\n",
    "Start here! Predict survival on the Titanic and get familiar with ML basics.\n",
    "\n",
    "## Exploratory Data Analysis\n",
    "\n",
    "In what follows, I will work through and analyse the provided titanic dataset in order to better understand the problem space and highlight relationships which can be incorporated in the feature engineering."
   ]
  },
  {
   "cell_type": "code",
   "execution_count": null,
   "metadata": {},
   "outputs": [],
   "source": []
  }
 ],
 "metadata": {
  "kernelspec": {
   "display_name": "Python 3",
   "language": "python",
   "name": "python3"
  },
  "language_info": {
   "codemirror_mode": {
    "name": "ipython",
    "version": 3
   },
   "file_extension": ".py",
   "mimetype": "text/x-python",
   "name": "python",
   "nbconvert_exporter": "python",
   "pygments_lexer": "ipython3",
   "version": "3.7.3"
  }
 },
 "nbformat": 4,
 "nbformat_minor": 2
}
